{
  "nbformat": 4,
  "nbformat_minor": 0,
  "metadata": {
    "colab": {
      "name": "PrácticaContadores.ipynb",
      "provenance": []
    },
    "kernelspec": {
      "name": "python3",
      "display_name": "Python 3"
    }
  },
  "cells": [
    {
      "cell_type": "code",
      "metadata": {
        "id": "ZD2idKZCeMZd"
      },
      "source": [
        "#Se importa librería de Visión Computacional abierta\r\n",
        "import cv2\r\n",
        "#Se importa librería de cálculos numéricos optimizados\r\n",
        "import numpy as np\r\n",
        "#Se importa la función cv_imshow para mostrar imágenes en Google Colab\r\n",
        "from google.colab.patches import cv2_imshow\r\n",
        "#Se importe ndimage para cálculos científicos con imágenes\r\n",
        "from scipy import ndimage\r\n",
        "#Se importa función peak_local_max para encontrar picos locales máximos\r\n",
        "from skimage.feature import peak_local_max\r\n",
        "#Se importa watershed para aplicar el algoritmo de cuenca\r\n",
        "from skimage.morphology import watershed\r\n",
        "#Se importa la librería de visualización de datos\r\n",
        "import matplotlib.pyplot as plt\r\n",
        "#Se importa la librería de manejo de imágenes\r\n",
        "import imutils"
      ],
      "execution_count": null,
      "outputs": []
    },
    {
      "cell_type": "code",
      "metadata": {
        "id": "S-Br2DMKg9Ok"
      },
      "source": [
        "#Se importa la imagen sobre la cual queremos contar objetos y calcular su área\r\n",
        "ImagenBGR = cv2.imread('/content/peje-coins.jpg')\r\n",
        "#Se muestra la imagen cargada en el paso anterior\r\n",
        "cv2_imshow(ImagenBGR)"
      ],
      "execution_count": null,
      "outputs": []
    },
    {
      "cell_type": "code",
      "metadata": {
        "id": "xHooQ5LXhPKZ"
      },
      "source": [
        "#Definimos una función, la cual sólo pedira una imagen entrada sobre la cual se contarán objetos y se calculará el área simultaneamente\r\n",
        "def ContadorYCalculador_de(ImagenBGR):\r\n",
        "    #Se crea una matriz que funcionará como kernel para la erosión y dilatación    \r\n",
        "    kernel = np.ones((5,5), np.uint8)\r\n",
        "    #La imagen cargada dentro de la función pasará a ser escala de grises\r\n",
        "    ImagenGray = cv2.cvtColor(ImagenBGR, cv2.COLOR_BGR2GRAY)\r\n",
        "    #La imagen en escala de grises, se le aplicarán dos filtros de difuminado Gaussiano, para quitar el brillo a las monedas (ruido)\r\n",
        "    ImagenGaussiana = cv2.GaussianBlur(ImagenGray,(3,3),0)\r\n",
        "    #Se le aplica otro difuminado Gaussiano por si hubiera todavía ruido\r\n",
        "    ImagenGaussiana = cv2.GaussianBlur(ImagenGaussiana,(3,3),0)\r\n",
        "    #Se binariza la imagen después de los difuminados, el rango a ser negro (0) será del 240 a 255, el resto será blanco (1)\r\n",
        "    Umbral, ImagenBinarizada = cv2.threshold(ImagenGaussiana, 240, 255, cv2.THRESH_BINARY_INV)\r\n",
        "    #Se erosiona la imagen, en caso de haber unión entre las monedas\r\n",
        "    ImagenErosionada = cv2.erode(ImagenBinarizada, kernel, iterations=3)\r\n",
        "    #Se dilata la imagen para volver casi al estado original, solo que sin unión entre las monedas\r\n",
        "    ImagenDilatada = cv2.dilate(ImagenErosionada, kernel, iterations=2)\r\n",
        "    #Se calcula la distancia euclidiana, para determinar los centro de mayor intesidad y segmentar mejor las monedas \r\n",
        "    DistanciaEuclidean  = ndimage.distance_transform_edt(ImagenDilatada)\r\n",
        "    #plt.imshow(DistanciaEuclidean) #para ver el mapa de calor generado \r\n",
        "    #Se calculan los picos locales máximos, para tratar al mapa de calor, como relieves montañosas\r\n",
        "    PicosLocalesMaximos = peak_local_max(DistanciaEuclidean, indices=False, min_distance=20, labels=ImagenDilatada)\r\n",
        "    #Se encuentran las marcas encontradas por los picos locales máximos y una estructura, sólo se agarra el primer valor por eso al final se pone \"[0]\"\"\r\n",
        "    Marcas = ndimage.label(PicosLocalesMaximos, structure=np.ones((3,3)))[0]\r\n",
        "    #Las etiquetas se encuentran por medio del algortimo de cuenca, de ahí se segmentarán las máscaras correctamente con respecto a una base (ImagenDilatada es la base)\r\n",
        "    #La distancia euclidiana debe ser negativa, por eso el signo (-)\r\n",
        "    Etiquetas = watershed(-DistanciaEuclidean, Marcas, mask=ImagenDilatada)\r\n",
        "    #Se nombra como variable global (para no tener errores después)\r\n",
        "    global CantidadDeDinero\r\n",
        "    #Siempre que se ingrese una imagen o nuevas imágenes, el conteo comenzará desde 0\r\n",
        "    CantidadDeDinero = 0\r\n",
        "    #Por cada valor de la variable Etiquetas, se determinará si está registrado el fondo o la región de interés (la máscara)\r\n",
        "    for Etiqueta in np.unique(Etiquetas):\r\n",
        "        #Si la región de interés es 0, entonces es el fondo, porque lo que \"continue\" hará que ese valor no se tome en cuenta\r\n",
        "        if Etiqueta == 0:\r\n",
        "            continue\r\n",
        "        #Se crea una máscara totalmente oscuro o un arreglo de solo (0)\r\n",
        "        Mascara = np.zeros(ImagenGray.shape, dtype=\"uint8\")\r\n",
        "        #Si el resultado de esa comparativa, es igual, quiere decir que se trata de la región de interés, así que se le asigna un 255 o (1)--> región blanca\r\n",
        "        Mascara[Etiquetas == Etiqueta] = 255\r\n",
        "        #Para encontrar los contornos externos de cada máscara (monedas) se usa la siguiente función\r\n",
        "        Contornos = cv2.findContours(Mascara.copy(), cv2.RETR_EXTERNAL, cv2.CHAIN_APPROX_SIMPLE)\r\n",
        "        #Se toman los contornos mediante la función de imutils\r\n",
        "        Contornos = imutils.grab_contours(Contornos)\r\n",
        "        #Se encuentra el número de objetos con este cálculou usando len() y restandole 1 (índice) al resultado\r\n",
        "        CantidadDeMonedas = len(np.unique(Etiquetas))-1\r\n",
        "\r\n",
        "        #Se analizará cada contorno (moneda) \r\n",
        "        for Contorno in Contornos:\r\n",
        "            #Se calcula el área de la moneda\r\n",
        "            area = cv2.contourArea(Contorno)\r\n",
        "            #Se calcula un círculo promedio equivalente a la forma de su contorno, para encontrar su centro (y radio de pasada xd)\r\n",
        "            ((x,y), r) = cv2.minEnclosingCircle(Contorno)\r\n",
        "            #Se muestra el área en formato string en la imagen, ésto se hace con el fin de ver calcular los umbrales para cada moneda y su respectivo valor\r\n",
        "            cv2.putText(ImagenBGR,str(area), (int(x) -20, int(y)-25), cv2.FONT_HERSHEY_SIMPLEX, 0.3, (0,0,0), 1 )\r\n",
        "            #Una vez visto los valores del área de cada moneda, se procede a determinar sobre qué intérvalos se encuentra el área de cada moneda con su valor\r\n",
        "            #Ejemplo: La moneda de 5 peso, dio como resultado 3254.5 y 3320.9 por lo que los rangos entre los que se encuentran estos valores son \r\n",
        "            #Min: 3200 y Max: 3400\r\n",
        "            if area>1100 and area<1200:\r\n",
        "                #La variable cantidad de dinero, irá sumando el valor de la moneda, de acuerdo al valor del área del contorno encontrado\r\n",
        "                CantidadDeDinero += 0.05\r\n",
        "            elif area>1300 and area<1450:\r\n",
        "                CantidadDeDinero += 0.1\r\n",
        "            elif area>1600 and area<1900:\r\n",
        "                CantidadDeDinero += 0.2\r\n",
        "            elif area>2300 and area<2450:\r\n",
        "                CantidadDeDinero += 0.5\r\n",
        "            elif area>2100 and area<2250:\r\n",
        "                CantidadDeDinero += 1\r\n",
        "            elif area>2500 and area<2900:\r\n",
        "                CantidadDeDinero += 2\r\n",
        "            elif area>3200 and area<3400:\r\n",
        "                CantidadDeDinero += 5\r\n",
        "            elif area>3800 and area<4200:\r\n",
        "                CantidadDeDinero += 10\r\n",
        "            elif area>5000 and area<5450:\r\n",
        "                CantidadDeDinero += 20\r\n",
        "            \r\n",
        "    #cv2_imshow(ImagenBGR)\r\n",
        "    #plt.imshow(DistanciaEuclidean)\r\n",
        "    #print(CantidadDeMonedas)\r\n",
        "    #print(CantidadDeDinero)\r\n",
        "    \r\n",
        "    #Se retornan los valores que serán resultado de utilizar esta función creada\r\n",
        "    return CantidadDeMonedas, CantidadDeDinero"
      ],
      "execution_count": null,
      "outputs": []
    },
    {
      "cell_type": "code",
      "metadata": {
        "colab": {
          "base_uri": "https://localhost:8080/"
        },
        "id": "xruGeOCLiza6",
        "outputId": "c47689b8-3fb2-4d25-c60c-162ebc351ccf"
      },
      "source": [
        "#Se crean dos variables que guardarán los valores retornados por la función ContadorYCalculador_de()\r\n",
        "#Dentro de los paréntesis siempre se deberá colocar una imagen, de preferencia en BGR\r\n",
        "CantidadMonedas, CantidadDinero = ContadorYCalculador_de(ImagenBGR)\r\n",
        "print(\"Número de monedas encontradas:\",CantidadMonedas)\r\n",
        "print(\"Cantidad de dinero calculado:\", CantidadDinero)"
      ],
      "execution_count": null,
      "outputs": [
        {
          "output_type": "stream",
          "text": [
            "Número de monedas encontradas: 18\n",
            "Cantidad de dinero calculado: 77.7\n"
          ],
          "name": "stdout"
        }
      ]
    },
    {
      "cell_type": "code",
      "metadata": {
        "id": "putNLJ53weAA"
      },
      "source": [
        ""
      ],
      "execution_count": null,
      "outputs": []
    }
  ]
}